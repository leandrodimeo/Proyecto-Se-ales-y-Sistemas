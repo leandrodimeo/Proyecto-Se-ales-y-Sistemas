{
 "cells": [
  {
   "cell_type": "markdown",
   "metadata": {},
   "source": [
    "# Trabajo Practico - Desarrollo de software para el cálculo de parámetros acústicos ISO 3382 \n",
    "\n",
    "## Fecha de entrega"
   ]
  },
  {
   "cell_type": "markdown",
   "metadata": {},
   "source": [
    "22/06/2021"
   ]
  },
  {
   "cell_type": "markdown",
   "metadata": {},
   "source": [
    "## Integrantes"
   ]
  },
  {
   "cell_type": "markdown",
   "metadata": {},
   "source": [
    "* <Agustin, Sosa Lütcher>\n",
    "* <Valentin, Gaglione>\n",
    "* <Leandro, Di Meo>"
   ]
  },
  {
   "cell_type": "markdown",
   "metadata": {},
   "source": [
    "## Librerias"
   ]
  },
  {
   "cell_type": "code",
   "execution_count": 34,
   "metadata": {},
   "outputs": [],
   "source": [
    "import numpy as np\n",
    "import soundfile as sf\n",
    "import pandas as pd\n",
    "from scipy import signal\n",
    "from scipy.io.wavfile import read, write\n",
    "import matplotlib.pyplot as plt\n",
    "import sounddevice as sd\n",
    "import simpleaudio as sa\n",
    "from IPython.display import Image\n",
    "import soundfile as sf\n",
    "import scipy\n",
    "\n",
    "\n",
    "\n",
    "#Para funcion carga de archivos.\n",
    "from ipywidgets import Button\n",
    "from tkinter import Tk, filedialog\n",
    "from IPython.display import clear_output, display"
   ]
  },
  {
   "cell_type": "markdown",
   "metadata": {},
   "source": [
    "## Funciones Graficadoras"
   ]
  },
  {
   "cell_type": "code",
   "execution_count": 35,
   "metadata": {},
   "outputs": [],
   "source": [
    "def graficador(ys,nombre,ti,ejex,ejey):\n",
    "    \"\"\"\n",
    "    Permite plotear funciones\n",
    "    Parámetros de entrada:\n",
    "     ys es la función, nombre es el nombre del grafico, ti es la coordenada independiente,\n",
    "     ejex nombre del eje X y ejey nombre del eje Y.\n",
    "    Return: Gráfica de la función de entrada con posibilidad de nombrar los ejes y darle un título\n",
    "    \"\"\"\n",
    "    fs = 44100\n",
    "    x = (np.linspace (0, ti, fs*ti,False))\n",
    "    # plot\n",
    "    plt.plot(x,ys, 'r')\n",
    "    plt.title(nombre)\n",
    "    plt.xlabel(ejex) \n",
    "    plt.ylabel(ejey)\n",
    "    plt.show()"
   ]
  },
  {
   "cell_type": "markdown",
   "metadata": {},
   "source": [
    "## Parametros"
   ]
  },
  {
   "cell_type": "code",
   "execution_count": 36,
   "metadata": {},
   "outputs": [
    {
     "name": "stdin",
     "output_type": "stream",
     "text": [
      "Ingrese el tiempo de reproducción: 5\n",
      "Ingrese la frecuencia de muestreo: 44100\n",
      "Ingrese frecuencia inferior: 20\n",
      "Ingrese frecuencia superior: 20000\n"
     ]
    }
   ],
   "source": [
    "T = int(input(\"Ingrese el tiempo de reproducción:\"))\n",
    "fs = int(input(\"Ingrese la frecuencia de muestreo:\"))\n",
    "f1 = float(input(\"Ingrese frecuencia inferior:\" ))\n",
    "f2 = float(input(\"Ingrese frecuencia superior:\" ))\n",
    "t = np.linspace(0., T, fs*T, False)"
   ]
  },
  {
   "cell_type": "markdown",
   "metadata": {},
   "source": [
    "## Ruido Rosa"
   ]
  },
  {
   "cell_type": "code",
   "execution_count": 37,
   "metadata": {},
   "outputs": [],
   "source": [
    "def ruidoRosa_voss(ti, fs=44100, ncols=16):\n",
    "    \"\"\"\n",
    "    Genera ruido rosa utilizando el algoritmo de Voss-McCartney(https://www.dsprelated.com/showabstract/3933.php).\n",
    "    \n",
    "    .. Nota:: si 'ruidoRosa.wav' existe, este será sobreescrito\n",
    "    \n",
    "    Parametros\n",
    "    ----------\n",
    "    ti : float\n",
    "        Valor temporal en segundos, este determina la duración del ruido generado.\n",
    "    rcols: int\n",
    "        Determina el número de fuentes a aleatorias a agregar.\n",
    "    fs: int\n",
    "        Frecuencia de muestreo en Hz de la señal. Por defecto el valor es 44100 Hz. \n",
    "    \n",
    "    returns: NumPy array\n",
    "             Genera un `.wav` desde un numpy array de ti segundos con ruido rosa a una \n",
    "    frecuencia de muestreo de 44100 Hz\n",
    "    \"\"\"\n",
    "    nrows = ti*fs\n",
    "    array = np.full((nrows, ncols), np.nan)\n",
    "    array[0, :] = np.random.random(ncols)\n",
    "    array[:, 0] = np.random.random(nrows)\n",
    "    \n",
    "    # el numero total de cambios es nrows\n",
    "    n = nrows\n",
    "    cols = np.random.geometric(0.5, n)\n",
    "    cols[cols >= ncols] = 0\n",
    "    rows = np.random.randint(nrows, size=n)\n",
    "    array[rows, cols] = np.random.random(n)\n",
    "    \n",
    "    df = pd.DataFrame(array)\n",
    "    filled = df.fillna(method='ffill', axis=0)\n",
    "    total = filled.sum(axis=1)\n",
    "    \n",
    "    ## Centrado de el array en 0\n",
    "    total = total - total.mean()\n",
    "    \n",
    "    ## Normalizado\n",
    "    valor_max = max(abs(max(total)),abs(min(total)))\n",
    "    total = total / valor_max\n",
    "    \n",
    "    filename = '../Proyecto-python/audio/ruidoRosa.wav' #Nombre del archivo\n",
    "    sd.wait()  #Esperar a que finalice la grabación\n",
    "    write(filename, fs, total) #grabación\n",
    "\n",
    "    return total"
   ]
  },
  {
   "cell_type": "code",
   "execution_count": 38,
   "metadata": {},
   "outputs": [],
   "source": [
    "r_rosa = ruidoRosa_voss(T, fs, ncols=16)"
   ]
  },
  {
   "cell_type": "code",
   "execution_count": 39,
   "metadata": {},
   "outputs": [
    {
     "data": {
      "image/png": "[encoded data removed]",
      "text/plain": [
       "<Figure size 432x288 with 1 Axes>"
      ]
     },
     "metadata": {
      "needs_background": "light"
     },
     "output_type": "display_data"
    }
   ],
   "source": [
    "graficador(r_rosa,'Ruido Rosa',T,'Tiempo[S]','Amplitud')"
   ]
  },
  {
   "cell_type": "markdown",
   "metadata": {},
   "source": [
    "## Sinesweep"
   ]
  },
  {
   "cell_type": "code",
   "execution_count": 40,
   "metadata": {},
   "outputs": [],
   "source": [
    "def sinesweep (f1, f2, T,t) : #Función sinesweep\n",
    "    \"\"\"\n",
    "    La función sinesweep genera un barrido en frecuencias que decae 3dB/octava.\n",
    "       Parametros de entrada: f1:Frecuencia incial del barrido.Formato Float.\n",
    "                              f2:Frecuencia final del barrido.Formato Float.\n",
    "                              T: Tiempo de duración.Formato Int.\n",
    "                              t:variable temporal.Formato Array.\n",
    "       Parametro de salida: f: representa la función del barrido.\n",
    "       También exporta audio formato .wav de duración T segundos y frecuencia de muestreo fs, si el mismo ya existe, será sobreescrito. \n",
    "       Dicha función utiliza recursos de la librería numpy, importando la misma como import numpy as np.\n",
    "    \"\"\"\n",
    "    w1 = 2*np.pi*f1\n",
    "    w2 = 2*np.pi*f2\n",
    "    R = np.log(w2 / w1)\n",
    "    L = T / R\n",
    "    K = (T*w1)/R\n",
    "    f = np.sin(K*(np.exp(t/L) - 1))\n",
    "    filename = '../Proyecto-python/audio/sinesweep.wav' #Nombre del archivo\n",
    "    sd.wait()  #Esperar a que finalice la grabación\n",
    "    write(filename, fs, f) #grabación\n",
    "    return f"
   ]
  },
  {
   "cell_type": "code",
   "execution_count": 41,
   "metadata": {},
   "outputs": [],
   "source": [
    "sinesweep_audio = sinesweep(f1,f2,T,t)"
   ]
  },
  {
   "cell_type": "code",
   "execution_count": 42,
   "metadata": {},
   "outputs": [
    {
     "data": {
      "image/png": "[encoded data removed]",
      "text/plain": [
       "<Figure size 432x288 with 1 Axes>"
      ]
     },
     "metadata": {
      "needs_background": "light"
     },
     "output_type": "display_data"
    }
   ],
   "source": [
    "graficador(sinesweep_audio,'SineSweep',T,'Tiempo[S]','Amplitud')"
   ]
  },
  {
   "cell_type": "markdown",
   "metadata": {},
   "source": [
    "## Filtro Inverso"
   ]
  },
  {
   "cell_type": "code",
   "execution_count": 43,
   "metadata": {},
   "outputs": [],
   "source": [
    "def filtroinverso (f1,f2,T,t): #Función filtro\n",
    "    \"\"\"\n",
    "    La función filtroinverso genera un filtro que aumenta 3dB/octava. \n",
    "       Parametros de entrada: f1:Frecuencia incial del barrido.Formato Float\n",
    "                              f2:Frecuencia final del barrido.Formato Float\n",
    "                              T: Tiempo de duración.Formato Int\n",
    "                              t:variable temporal.Formato Array\n",
    "       Parametro de salida: FI: representa la función de filtro inverso.\n",
    "       También exporta audio formato .wav de duración T segundos y frecuencia de muestreo fs, si el mismo ya existe, será sobreescrito. \n",
    "       Dicha función utiliza recursos de la librería numpy, importando la misma como import numpy as np.\n",
    "    \"\"\"\n",
    "    w1 = 2*np.pi*f1\n",
    "    w2 = 2*np.pi*f2\n",
    "    R = np.log(w2 / w1)\n",
    "    L = T / R\n",
    "    K = (T*w1)/R\n",
    "    W = (K/L)*np.exp(t/L)\n",
    "    M = w1/(2*np.pi*W)\n",
    "    FI = M*sinesweep(f1,f2,T,t[::-1])\n",
    "    filename = '../Proyecto-python/audio/filtroinverso.wav' #Nombre del archivo\n",
    "    write(filename, fs, FI) #grabación\n",
    "    return FI"
   ]
  },
  {
   "cell_type": "code",
   "execution_count": 44,
   "metadata": {},
   "outputs": [],
   "source": [
    "filtro_inv = filtroinverso(f1,f2,T,t)"
   ]
  },
  {
   "cell_type": "code",
   "execution_count": 45,
   "metadata": {},
   "outputs": [
    {
     "data": {
      "image/png": "[encoded data removed]",
      "text/plain": [
       "<Figure size 432x288 with 1 Axes>"
      ]
     },
     "metadata": {
      "needs_background": "light"
     },
     "output_type": "display_data"
    }
   ],
   "source": [
    "graficador(filtro_inv,'Filtro Inverso',T,'Tiempo[S]','Amplitud')"
   ]
  },
  {
   "cell_type": "markdown",
   "metadata": {},
   "source": [
    "## Función de carga de archivos"
   ]
  },
  {
   "cell_type": "code",
   "execution_count": 46,
   "metadata": {},
   "outputs": [],
   "source": [
    "def cargar_audio(paths):\n",
    "    \"\"\"\n",
    "    In: Array con path de los archivos de audio.\n",
    "\n",
    "    Out: Array con informacion de los archivos de audio, en sendos diccionarios.\n",
    "    Los diccionarios tienen las keys las keys:\n",
    "      \n",
    "\n",
    "    Data: Contiene la codificacion de pulso modulado\n",
    "    Bitdepth: Dtype del array data de audio.\n",
    "    Subtype: Contiene la informacion de formato extraida con la libreria soundfile\n",
    "    Duracion: La duracion en segundos del archivo de audio\n",
    "      Samplerate: Frecuencia de sampleo obtenida con la libreria soundfile\n",
    "      Nombre: El del objeto del cual se tomo la informacion. Se probo en wav.\n",
    "      t: Linspace de largo igual a Duracion, con pasos de 1/(frecuencia de sampleo)\n",
    "\n",
    "      Los diccionarios se crean en el orden que tenian los archivos en el array in. Se puede llamar el directorio de cada archivo como cargar_audio(pathfiles)[indice del archivo dentro del array]\n",
    "    \"\"\"\n",
    "    audiodiccs=[]\n",
    "    for path in paths:\n",
    "        archivo=sf.SoundFile(path)\n",
    "        data , fs = sf.read(path)\n",
    "        subtype= \"MAT5\" if \"DOUBLE\"==archivo.subtype else \"WAVE\"\n",
    "        frames=archivo.frames\n",
    "        bitdepth=data.dtype\n",
    "        audiodicc={\"Nombre\":None,\"Samplerate\":None, \"Duracion\":None,\"Bitdepth\":None,\"Data\":None, \"t\":None, \"Subtype\":None}\n",
    "        audiodicc.update({\"Nombre\":path,\"Samplerate\":fs,\"Bitdepth\":bitdepth,\"Duracion\":frames/fs,\"Subtype\":subtype,\"Data\":data, \"t\":np.linspace(0,frames/fs,frames)})\n",
    "        archivo.close()\n",
    "        audiodiccs.append(audiodicc)\n",
    "      \n",
    "    return audiodiccs\n"
   ]
  },
  {
   "cell_type": "markdown",
   "metadata": {},
   "source": [
    "Botón selector"
   ]
  },
  {
   "cell_type": "code",
   "execution_count": 47,
   "metadata": {},
   "outputs": [
    {
     "data": {
      "application/vnd.jupyter.widget-view+json": {
       "model_id": "c4ebe42b77e5414dbea2427b7d322c31",
       "version_major": 2,
       "version_minor": 0
      },
      "text/plain": [
       "Button(description='Seleccione el archivo', style=ButtonStyle())"
      ]
     },
     "metadata": {},
     "output_type": "display_data"
    },
    {
     "data": {
      "text/plain": [
       "[]"
      ]
     },
     "execution_count": 47,
     "metadata": {},
     "output_type": "execute_result"
    }
   ],
   "source": [
    "files = []\n",
    "def select_files(b,files=files):\n",
    "    clear_output()\n",
    "    root = Tk()\n",
    "    root.withdraw() # Hide the main window.\n",
    "    root.call('wm', 'attributes', '.', '-topmost', True) # Raise the root to the top of all windows.\n",
    "    files.append(filedialog.askopenfilename()) # List of selected files will be set button's file attribute.\n",
    "    print(files) # Print the list of files selected.\n",
    "\n",
    "fileselect = Button(description=\"Seleccione el archivo\")\n",
    "fileselect.on_click(select_files)\n",
    "\n",
    "display(fileselect)\n",
    "files"
   ]
  },
  {
   "cell_type": "markdown",
   "metadata": {},
   "source": [
    "## Función grabado y reproducción"
   ]
  },
  {
   "cell_type": "code",
   "execution_count": 48,
   "metadata": {},
   "outputs": [],
   "source": [
    "def recplay (file , duracion,canales): \n",
    "    \"\"\" \n",
    "    Función para grabar y reproducir Audios\n",
    "    Graba en formato.wav\n",
    "    Parametros de entrada:\n",
    "    file es el archivo de audio a reproducir\n",
    "    out es el nombre de la grabacion\n",
    "    duracion es el tiempo de grabacion.\n",
    "    Return Audio grabado en .wav con \"duracion\" segundos y frecuencia de muestreo fs.\n",
    "    \"\"\"                                 \n",
    "    fs, data = read(file)\n",
    "    sd.play(data,fsr)\n",
    "    sd.wait() \n",
    "    grabacion = sd.rec(int(duracion * fs),fs,canales=2)\n",
    "    status=sd.wait()\n",
    "    return grabacion\n"
   ]
  },
  {
   "cell_type": "code",
   "execution_count": 49,
   "metadata": {},
   "outputs": [],
   "source": [
    "def plays (file):\n",
    "    \"\"\"\n",
    "    Función para reproducción de archivos\n",
    "    Parametros de entrada:\n",
    "    File es el archivo a reproducir\n",
    "    A la salida obtengo la reproducción, hasta el final, del archivo.\n",
    "    Utiliza librerias de sounddevice\n",
    "    \"\"\"\n",
    "    audio2 = file * (2**15 - 1) / np.max(np.abs(file)) #Defino y reproduzco la función\n",
    "    audio2 = audio2.astype(np.int16)\n",
    "    play_obj = sa.play_buffer(audio2, 1, 2, 44100)\n",
    "    play_obj.wait_done()\n"
   ]
  },
  {
   "cell_type": "code",
   "execution_count": 50,
   "metadata": {},
   "outputs": [],
   "source": [
    "plays(filtro_inv)"
   ]
  },
  {
   "cell_type": "markdown",
   "metadata": {},
   "source": [
    "## Sintesis Respuesta al Impulso"
   ]
  },
  {
   "cell_type": "code",
   "execution_count": 51,
   "metadata": {},
   "outputs": [],
   "source": [
    "def sintetizacion_ri(rt,amps,freqs,fs): \n",
    "    \"\"\"\n",
    "    Sintetiza una respuesta al impulso\n",
    "    Parámetros de entrada:\n",
    "        rt: array de tiempo de reverberacion por banda de frecuencias\n",
    "        amps: moduladores de amplitud por \n",
    "        freqs: array con frecuencias utilizadas en Hz\n",
    "    Salida:\n",
    "        Array sintesis de respuesta al impulso y audio \n",
    "    Utiliza bibioteca de numpy\n",
    "    \"\"\"\n",
    "    duracion=3*int(np.ceil(max(rt)))\n",
    "    risub=np.zeros(duracion*fs,) #respuesta al impulso\n",
    "    for i in np.arange(len(rt)):\n",
    "\n",
    "        ri=lambda t: amps[i]*np.exp(t*rt[i]/np.log(10**-3))*np.cos(2*np.pi*freqs[i]*t)\n",
    "        ritot=risub+ri(np.linspace(0,duracion,duracion*fs))\n",
    "    filename = '../Proyecto-python/audio/sinte_ri.wav' #Nombre del archivo\n",
    "    sd.wait()  #Esperar a que finalice la grabación\n",
    "    write(filename, fs, ritot) #grabación   \n",
    "    return ritot"
   ]
  },
  {
   "cell_type": "code",
   "execution_count": 52,
   "metadata": {},
   "outputs": [
    {
     "data": {
      "image/png": "[encoded data removed]",
      "text/plain": [
       "<Figure size 432x288 with 1 Axes>"
      ]
     },
     "metadata": {
      "needs_background": "light"
     },
     "output_type": "display_data"
    }
   ],
   "source": [
    "freqs = [31.25,62.5,125,250,500,1000,2000,4000,8000,16000]\n",
    "rt= [5.68,4.41,3.86,2.86,2.59,2.61,2.47,2.02,1.32,0.92] #Obtenido de 1st_baptist_nashville_balcony\"\n",
    "amps = np.ones(10)\n",
    "sinte=sintetizacion_ri(rt,amps,freqs,fs)\n",
    "Tt=int(3*np.ceil(max(rt)))\n",
    "graficador(sinte,\"Sintesis de respuesta al impulso\",Tt,\"Tiempo(s)\",\"Amplitud\")\n"
   ]
  },
  {
   "cell_type": "markdown",
   "metadata": {},
   "source": [
    "## Función de obtención de la respuesta al impulso"
   ]
  },
  {
   "cell_type": "code",
   "execution_count": 53,
   "metadata": {},
   "outputs": [],
   "source": [
    "def resp_imp (x, y):\n",
    "    '''Función de obtención de la respuesta al impulso de un recinto\n",
    "       Parametros de entrada:\n",
    "       X:Impulso o excitación\n",
    "       Y:Captación del impulso con la respuesta del recinto\n",
    "       Mediante la transformada rapida de fourier de la biblioteca Scipy, \n",
    "       Return: Respuesta al impulso de la sala'''\n",
    "\n",
    "    Y = scipy.fft.fft(y)\n",
    "    X = scipy.fft.fft(x)\n",
    "    H = Y/X\n",
    "    w = scipy.signal.windows.cosine(len(x), sym=True)\n",
    "    h = scipy.fft.ifft(H)*w\n",
    "    #resp = \"../respuesta_impulso\"\n",
    "    #write(resp, fs, h)\n",
    "    return h\n",
    "resp_impulso = resp_imp(sinesweep_audio,filtro_inv)"
   ]
  },
  {
   "cell_type": "code",
   "execution_count": 54,
   "metadata": {},
   "outputs": [
    {
     "name": "stderr",
     "output_type": "stream",
     "text": [
      "C:\\Users\\LeaDm\\anaconda3\\lib\\site-packages\\numpy\\core\\_asarray.py:83: ComplexWarning: Casting complex values to real discards the imaginary part\n",
      "  return array(a, dtype, copy=False, order=order)\n"
     ]
    },
    {
     "data": {
      "image/png": "[encoded data removed]",
      "text/plain": [
       "<Figure size 432x288 with 1 Axes>"
      ]
     },
     "metadata": {
      "needs_background": "light"
     },
     "output_type": "display_data"
    }
   ],
   "source": [
    "graficador(resp_impulso,'Respuesta al impulso',T,'Tiempo[S]','Amplitud')"
   ]
  },
  {
   "cell_type": "markdown",
   "metadata": {},
   "source": [
    "## Función filtros norma IEC61260"
   ]
  },
  {
   "cell_type": "code",
   "execution_count": 55,
   "metadata": {},
   "outputs": [],
   "source": [
    "def Filtro (fs,bandwidth,archivo):\n",
    "    '''Filtro por octava o tercio de octava segun Norma 612600\n",
    "       Parametros de entrada: \n",
    "        fs: Frecuencia de muestreo\n",
    "        bandwith: Selector de octava o tercio de octava '''\n",
    "    if bandwidth == 'octava': #ancho de banda de a octava \n",
    "        freqs = [31.25, 62.5, 125, 250, 500, 1000, 2000, 4000, 8000]\n",
    "        G = 1.0/2.0\n",
    "        filename = [\"../Proyecto-python/audio/filtrado31,25Hz.wav\",\"../Proyecto-python/audio/filtrado62,5Hz.wav\",\"../Proyecto-python/audio/filtrado125Hz.wav\",\"../Proyecto-python/audio/filtrado250Hz.wav\",\"../Proyecto-python/audio/filtrado500Hz.wav\",\n",
    "                    \"../Proyecto-python/audio/filtrado1000Hz.wav\",\"../Proyecto-python/audio/filtrado2000Hz.wav\",\"../Proyecto-python/audio/filtrado4000Hz.wav\",\"../Proyecto-python/audio/filtrado8000Hz.wav\"] \n",
    "    elif bandwidth == 'tercio': #ancho de banda de a tercio de octava \n",
    "        freqs = [19.69,24.80,31.25,39.37,49.61,62.50,78.75,99.21,125,157.5,198.4,250,\n",
    "                 315,396.9,500,630,793.7,1000,1260,1587,2000,2520,3175,4000,5040,6350,8000]\n",
    "        G = 1.0/6.0\n",
    "    factor = np.power(2,G)\n",
    "    for i in range(0,len(freqs)):\n",
    "        fn = filename[i]  #Nombre del archivo que vaya cambiando segun frecuencia \n",
    "        frec_central = freqs[i] #Define las diferentes frecuencias centrales para el array freqs\n",
    "        fcorte_inf = frec_central/factor #Define las diferentes frecuencias de corte inferior para el array freqs\n",
    "        fcorte_sup = frec_central*factor #Define las diferentes frecuencias de corte superior para el array freqs\n",
    "        sos = signal.iirfilter(12, [fcorte_inf,fcorte_sup],\n",
    "                            rs=60, btype='band', analog=False,\n",
    "                            ftype='butter', fs=fs, output='sos')\n",
    "        filt = signal.sosfilt(sos, archivo)\n",
    "        write(fn, fs, np.float32(filt)) #grabación \n",
    "        plt.plot(t,filt)\n",
    "    return filt[0::len(freqs)]"
   ]
  },
  {
   "cell_type": "code",
   "execution_count": 56,
   "metadata": {},
   "outputs": [
    {
     "name": "stderr",
     "output_type": "stream",
     "text": [
      "<ipython-input-55-2ebd4920e52b>:25: ComplexWarning: Casting complex values to real discards the imaginary part\n",
      "  write(fn, fs, np.float32(filt)) #grabación\n",
      "C:\\Users\\LeaDm\\anaconda3\\lib\\site-packages\\numpy\\core\\_asarray.py:83: ComplexWarning: Casting complex values to real discards the imaginary part\n",
      "  return array(a, dtype, copy=False, order=order)\n",
      "<ipython-input-55-2ebd4920e52b>:25: ComplexWarning: Casting complex values to real discards the imaginary part\n",
      "  write(fn, fs, np.float32(filt)) #grabación\n",
      "C:\\Users\\LeaDm\\anaconda3\\lib\\site-packages\\numpy\\core\\_asarray.py:83: ComplexWarning: Casting complex values to real discards the imaginary part\n",
      "  return array(a, dtype, copy=False, order=order)\n",
      "<ipython-input-55-2ebd4920e52b>:25: ComplexWarning: Casting complex values to real discards the imaginary part\n",
      "  write(fn, fs, np.float32(filt)) #grabación\n",
      "C:\\Users\\LeaDm\\anaconda3\\lib\\site-packages\\numpy\\core\\_asarray.py:83: ComplexWarning: Casting complex values to real discards the imaginary part\n",
      "  return array(a, dtype, copy=False, order=order)\n",
      "<ipython-input-55-2ebd4920e52b>:25: ComplexWarning: Casting complex values to real discards the imaginary part\n",
      "  write(fn, fs, np.float32(filt)) #grabación\n",
      "C:\\Users\\LeaDm\\anaconda3\\lib\\site-packages\\numpy\\core\\_asarray.py:83: ComplexWarning: Casting complex values to real discards the imaginary part\n",
      "  return array(a, dtype, copy=False, order=order)\n",
      "<ipython-input-55-2ebd4920e52b>:25: ComplexWarning: Casting complex values to real discards the imaginary part\n",
      "  write(fn, fs, np.float32(filt)) #grabación\n",
      "C:\\Users\\LeaDm\\anaconda3\\lib\\site-packages\\numpy\\core\\_asarray.py:83: ComplexWarning: Casting complex values to real discards the imaginary part\n",
      "  return array(a, dtype, copy=False, order=order)\n",
      "<ipython-input-55-2ebd4920e52b>:25: ComplexWarning: Casting complex values to real discards the imaginary part\n",
      "  write(fn, fs, np.float32(filt)) #grabación\n",
      "C:\\Users\\LeaDm\\anaconda3\\lib\\site-packages\\numpy\\core\\_asarray.py:83: ComplexWarning: Casting complex values to real discards the imaginary part\n",
      "  return array(a, dtype, copy=False, order=order)\n",
      "<ipython-input-55-2ebd4920e52b>:25: ComplexWarning: Casting complex values to real discards the imaginary part\n",
      "  write(fn, fs, np.float32(filt)) #grabación\n",
      "C:\\Users\\LeaDm\\anaconda3\\lib\\site-packages\\numpy\\core\\_asarray.py:83: ComplexWarning: Casting complex values to real discards the imaginary part\n",
      "  return array(a, dtype, copy=False, order=order)\n",
      "<ipython-input-55-2ebd4920e52b>:25: ComplexWarning: Casting complex values to real discards the imaginary part\n",
      "  write(fn, fs, np.float32(filt)) #grabación\n",
      "C:\\Users\\LeaDm\\anaconda3\\lib\\site-packages\\numpy\\core\\_asarray.py:83: ComplexWarning: Casting complex values to real discards the imaginary part\n",
      "  return array(a, dtype, copy=False, order=order)\n",
      "<ipython-input-55-2ebd4920e52b>:25: ComplexWarning: Casting complex values to real discards the imaginary part\n",
      "  write(fn, fs, np.float32(filt)) #grabación\n",
      "C:\\Users\\LeaDm\\anaconda3\\lib\\site-packages\\numpy\\core\\_asarray.py:83: ComplexWarning: Casting complex values to real discards the imaginary part\n",
      "  return array(a, dtype, copy=False, order=order)\n"
     ]
    },
    {
     "data": {
      "image/png": "[encoded data removed]",
      "text/plain": [
       "<Figure size 432x288 with 1 Axes>"
      ]
     },
     "metadata": {
      "needs_background": "light"
     },
     "output_type": "display_data"
    }
   ],
   "source": [
    "filtro = Filtro(fs,'octava',resp_impulso)"
   ]
  },
  {
   "cell_type": "markdown",
   "metadata": {},
   "source": [
    "## Función conversión a escala logarítmica normalizada"
   ]
  },
  {
   "cell_type": "code",
   "execution_count": 57,
   "metadata": {},
   "outputs": [],
   "source": [
    "def convlognormal(F):\n",
    "    \"\"\"\n",
    "    Conversion a escala logaritmica normalizada\n",
    "    Parámetros de entrada:\n",
    "    F: Función a escalar\n",
    "    Salida: Función normalizada y a escala logaritmica\n",
    "    Utiliza librería Numpy.\n",
    "    \"\"\"\n",
    "    ampmax=np.max(F)\n",
    "    Fln=20*np.log10(F/ampmax)\n",
    "    return Fln"
   ]
  },
  {
   "cell_type": "code",
   "execution_count": 58,
   "metadata": {},
   "outputs": [
    {
     "name": "stderr",
     "output_type": "stream",
     "text": [
      "C:\\Users\\LeaDm\\anaconda3\\lib\\site-packages\\numpy\\core\\_asarray.py:83: ComplexWarning: Casting complex values to real discards the imaginary part\n",
      "  return array(a, dtype, copy=False, order=order)\n"
     ]
    },
    {
     "data": {
      "image/png": "[encoded data removed]",
      "text/plain": [
       "<Figure size 432x288 with 1 Axes>"
      ]
     },
     "metadata": {
      "needs_background": "light"
     },
     "output_type": "display_data"
    }
   ],
   "source": [
    "aa = convlognormal(resp_impulso)\n",
    "graficador(aa,'Respuesta al impulso',T,'Tiempo[S]','Amplitud')"
   ]
  },
  {
   "cell_type": "markdown",
   "metadata": {},
   "source": [
    "## Transformada de Hilbert"
   ]
  },
  {
   "cell_type": "code",
   "execution_count": 59,
   "metadata": {},
   "outputs": [],
   "source": [
    "import scipy.signal\n",
    "import cmath\n",
    "def transf_hilbert (S):\n",
    "    \"\"\"Realiza la transformada de Hilbert para una función de entrada.\n",
    "    Parámetros de entrada\n",
    "    S: Función a aplicar la transformada.\n",
    "    Salida: Transformada de Hilbert\"\"\"\n",
    "    #n = 1/(np.pi*t)\n",
    "    #Hilb = np.convolve(S,n,mode = 'same')\n",
    "    imaginario_S=S.imag\n",
    "    real_S=S.real\n",
    "    Hilb = scipy.signal.hilbert(real_S)+scipy.signal.hilbert(imaginario_S)\n",
    "    return Hilb# ir por scipy "
   ]
  },
  {
   "cell_type": "code",
   "execution_count": 60,
   "metadata": {},
   "outputs": [
    {
     "name": "stderr",
     "output_type": "stream",
     "text": [
      "C:\\Users\\LeaDm\\anaconda3\\lib\\site-packages\\numpy\\core\\_asarray.py:83: ComplexWarning: Casting complex values to real discards the imaginary part\n",
      "  return array(a, dtype, copy=False, order=order)\n"
     ]
    },
    {
     "data": {
      "image/png": "[encoded data removed]",
      "text/plain": [
       "<Figure size 432x288 with 1 Axes>"
      ]
     },
     "metadata": {
      "needs_background": "light"
     },
     "output_type": "display_data"
    }
   ],
   "source": [
    "ss = transf_hilbert(aa)\n",
    "graficador(ss,\"Respuesta al impulso-Hilbert\",T,\"Tiempo(s)\", \"Amplitud (dBFS)\")"
   ]
  },
  {
   "cell_type": "markdown",
   "metadata": {},
   "source": [
    "## Función de Schroeder"
   ]
  },
  {
   "cell_type": "code",
   "execution_count": 61,
   "metadata": {},
   "outputs": [],
   "source": [
    "def reglin(data,t):\n",
    "    \"\"\"\n",
    "    Aplica la fórmula de regresión lineal para obtener la recta que mejor se aproxima a la respuesta al impulso suavizada.\n",
    "    Parámetros de entrada:\n",
    "    data : Función de entrada.\n",
    "    t: Tiempo.\n",
    "    Salida:\n",
    "    y: Regresión lineal.\n",
    "    \"\"\"\n",
    "\n",
    "    y=np.transpose(data);        #vector valor de muestra\n",
    "    x=t;                      #vector muestras\n",
    "    n=len(t);                 #cantidad de muestras\n",
    "\n",
    "    c1=sum(x**2)\n",
    "    c2=sum(y)\n",
    "    c3=sum(x*y)\n",
    "    c4=sum(x)\n",
    "\n",
    "    ord = 2*(c1*c2-c3*c4)/(n*c1-c4**2)\n",
    "    pend = (n*c3-c4*c2)/(n*c1-c4**2)\n",
    "    recta=[pend,ord]\n",
    "    y = pend*x + ord \n",
    "    return y\n"
   ]
  },
  {
   "cell_type": "code",
   "execution_count": null,
   "metadata": {},
   "outputs": [],
   "source": [
    "def schroeder (señal):\n",
    "  \"\"\"\n",
    "  Esta funcion calcula y devuelve la integral de schroeder de la señal de entrada.\n",
    "  \"\"\"\n",
    "  sch = np.cumsum(abs(señal)[::-1]**2)[::-1]\n",
    "  sch_db = 10.0 * np.log10(sch / np.max(sch))\n",
    "  return sch_db"
   ]
  },
  {
   "cell_type": "code",
   "execution_count": 68,
   "metadata": {},
   "outputs": [
    {
     "data": {
      "image/png": "[encoded data removed]",
      "text/plain": [
       "<Figure size 432x288 with 1 Axes>"
      ]
     },
     "metadata": {
      "needs_background": "light"
     },
     "output_type": "display_data"
    }
   ],
   "source": [
    "ejetemporal=np.linspace(0,len(ss)/44100,len(ss))\n",
    "sch = schroeder(ss)\n",
    "graficador(sch,\"Schroeder\",5,\"Tiempo(s)\", \"Amplitud (dBFS)\")\n"
   ]
  },
  {
   "cell_type": "markdown",
   "metadata": {},
   "source": [
    "## Regresión lineal"
   ]
  },
  {
   "cell_type": "code",
   "execution_count": 64,
   "metadata": {},
   "outputs": [],
   "source": [
    "def reglin(data,t):\n",
    "    \"\"\"\n",
    "    Aplica la fórmula de regresión lineal para obtener la recta que mejor se aproxima a la respuesta al impulso suavizada.\n",
    "    Parámetros de entrada:\n",
    "    data : Función de entrada.\n",
    "    t: Tiempo.\n",
    "    Salida:\n",
    "    y: Regresión lineal.\n",
    "    \"\"\"\n",
    "\n",
    "    y=np.transpose(data);        #vector valor de muestra\n",
    "    x=t;                      #vector muestras\n",
    "    n=len(t);                 #cantidad de muestras\n",
    "\n",
    "    c1=sum(x**2)\n",
    "    c2=sum(y)\n",
    "    c3=sum(x*y)\n",
    "    c4=sum(x)\n",
    "\n",
    "    ord = 2*(c1*c2-c3*c4)/(n*c1-c4**2)\n",
    "    pend = (n*c3-c4*c2)/(n*c1-c4**2)\n",
    "    recta=[pend,ord]\n",
    "    y = pend*x + ord \n",
    "    return y\n"
   ]
  },
  {
   "cell_type": "code",
   "execution_count": 70,
   "metadata": {},
   "outputs": [
    {
     "data": {
      "image/png": "[encoded data removed]",
      "text/plain": [
       "<Figure size 432x288 with 1 Axes>"
      ]
     },
     "metadata": {
      "needs_background": "light"
     },
     "output_type": "display_data"
    }
   ],
   "source": [
    "regresionlineal=reglin(sch, ejetemporal)\n",
    "graficador(regresionlineal,\"Regresion lineal\",5,\"Tiempo(s)\", \"Amplitud (dBFS)\")"
   ]
  },
  {
   "cell_type": "markdown",
   "metadata": {},
   "source": [
    "## Calculo de parametros acusticos\n"
   ]
  },
  {
   "cell_type": "code",
   "execution_count": 92,
   "metadata": {},
   "outputs": [],
   "source": [
    "def clarity(time, signal, fs, anchodebanda):\n",
    "    \"\"\"\n",
    "    Clarity :math:`C_i` determined from an impulse response.\n",
    "\n",
    "    :time: Tiempo en milisegundos (Ej.: 50, 80).\n",
    "    :signal: Respuesta al impulso filtrada segun norma .\n",
    "    :type signal: :class:`np.ndarray`\n",
    "    :param fs: frecuencia de sampleo.\n",
    "    :Ancho de banda: Array de frecuencias centrales.\n",
    "    :type bands: :class:`np.ndarray`\n",
    "\n",
    "    \"\"\"\n",
    "    c = np.zeros(anchodebanda.size)\n",
    "    for band in range(anchodebanda.size):\n",
    "        h2 = signal**2\n",
    "        t = int((time / 1000.0) * fs + 1)\n",
    "        c[band] = 10.0 * np.log10((np.sum(h2[:t]) / np.sum(h2[t:])))\n",
    "    return c"
   ]
  },
  {
   "cell_type": "code",
   "execution_count": 93,
   "metadata": {},
   "outputs": [
    {
     "name": "stderr",
     "output_type": "stream",
     "text": [
      "<ipython-input-92-cfe4dcf5a56b>:17: ComplexWarning: Casting complex values to real discards the imaginary part\n",
      "  c[band] = 10.0 * np.log10((np.sum(h2[:t]) / np.sum(h2[t:])))\n"
     ]
    }
   ],
   "source": [
    "c80 = clarity(80,filtro,44100,np.array((31.25, 62.5, 125, 250, 500, 1000, 2000, 4000, 8000)))"
   ]
  },
  {
   "cell_type": "code",
   "execution_count": 94,
   "metadata": {},
   "outputs": [
    {
     "data": {
      "text/plain": [
       "[<matplotlib.lines.Line2D at 0x1d18603f9d0>]"
      ]
     },
     "execution_count": 94,
     "metadata": {},
     "output_type": "execute_result"
    },
    {
     "data": {
      "image/png": "[encoded data removed]",
      "text/plain": [
       "<Figure size 432x288 with 1 Axes>"
      ]
     },
     "metadata": {
      "needs_background": "light"
     },
     "output_type": "display_data"
    }
   ],
   "source": [
    "plt.plot((31.25, 62.5, 125, 250, 500, 1000, 2000, 4000, 8000),c80)"
   ]
  },
  {
   "cell_type": "markdown",
   "metadata": {},
   "source": [
    "## T60 a partir de t10, t20, o t30\n"
   ]
  },
  {
   "cell_type": "code",
   "execution_count": 76,
   "metadata": {},
   "outputs": [],
   "source": [
    "def T60desdeT(TR,tipodetr=1):\n",
    "    \"\"\"input:\n",
    "    tipodetr [dB]: El decaimiento de la señal impulsiva en un tiempo TR. (1:T10, 2:T20, 3:T10 )\n",
    "    TR [s]: El tiempo en que se midió el decaimiento.\n",
    "    Output:\n",
    "    T60: Tiempo en que se mediria una caida de 60 dB de una señal impulsiva.\n",
    "    Se obtiene el T60 considerando como lineal el decaimiento.\n",
    "    \"\"\"\n",
    "    if TR == 1 :\n",
    "        T60=TR*3\n",
    "    if TR == 2 :\n",
    "        T60=TR*2\n",
    "    if TR == 3:\n",
    "        T60=TR*6\n",
    "    if TR not in (1,2,3) :print(\"El tipodetr no es valido.\")\n",
    "    return T60\n"
   ]
  },
  {
   "cell_type": "code",
   "execution_count": 77,
   "metadata": {},
   "outputs": [
    {
     "data": {
      "text/plain": [
       "4"
      ]
     },
     "execution_count": 77,
     "metadata": {},
     "output_type": "execute_result"
    }
   ],
   "source": [
    "T60desdeT(2,tipodetr=1)"
   ]
  },
  {
   "cell_type": "markdown",
   "metadata": {},
   "source": [
    "## D50"
   ]
  },
  {
   "cell_type": "code",
   "execution_count": 85,
   "metadata": {},
   "outputs": [
    {
     "ename": "SyntaxError",
     "evalue": "unexpected EOF while parsing (<ipython-input-85-9d31d7d6c675>, line 4)",
     "output_type": "error",
     "traceback": [
      "\u001b[1;36m  File \u001b[1;32m\"<ipython-input-85-9d31d7d6c675>\"\u001b[1;36m, line \u001b[1;32m4\u001b[0m\n\u001b[1;33m    np.append(D,10*np.log((10*(clarity(señal,50)[i]/10))/((10*(clarity(señal,50)[i]/10) + 1)))\u001b[0m\n\u001b[1;37m                                                                                              ^\u001b[0m\n\u001b[1;31mSyntaxError\u001b[0m\u001b[1;31m:\u001b[0m unexpected EOF while parsing\n"
     ]
    }
   ],
   "source": [
    "def d50(señal): \n",
    "    D=()\n",
    "    for i in len(c):\n",
    "        np.append(D,10*np.log((10*(clarity(señal,50)[i]/10))/((10*(clarity(señal,50)[i]/10) + 1)))"
   ]
  },
  {
   "cell_type": "code",
   "execution_count": null,
   "metadata": {},
   "outputs": [],
   "source": []
  }
 ],
 "metadata": {
  "interpreter": {
   "hash": "700fe54290d983b7045e047b70f09bcc02e314d212761deffb5f70b71344d5f8"
  },
  "kernelspec": {
   "display_name": "Python 3",
   "language": "python",
   "name": "python3"
  },
  "language_info": {
   "codemirror_mode": {
    "name": "ipython",
    "version": 3
   },
   "file_extension": ".py",
   "mimetype": "text/x-python",
   "name": "python",
   "nbconvert_exporter": "python",
   "pygments_lexer": "ipython3",
   "version": "3.8.5"
  }
 },
 "nbformat": 4,
 "nbformat_minor": 4
}
