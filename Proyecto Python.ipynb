{
 "cells": [
  {
   "cell_type": "markdown",
   "metadata": {},
   "source": [
    "# Trabajo Practico - Desarrollo de software para el cálculo de parámetros acústicos ISO 3382 \n",
    "\n",
    "## Fecha de entrega"
   ]
  },
  {
   "cell_type": "markdown",
   "metadata": {},
   "source": [
    "22/06/2021"
   ]
  },
  {
   "cell_type": "markdown",
   "metadata": {},
   "source": [
    "## Integrantes"
   ]
  },
  {
   "cell_type": "markdown",
   "metadata": {},
   "source": [
    "* <Agustin, Sosa Lütcher>\n",
    "* <Valentin, Gaglione>\n",
    "* <Leandro, Di Meo>"
   ]
  },
  {
   "cell_type": "markdown",
   "metadata": {},
   "source": [
    "## Librerias"
   ]
  },
  {
   "cell_type": "code",
   "execution_count": 1,
   "metadata": {},
   "outputs": [],
   "source": [
    "import numpy as np\n",
    "import soundfile as sf\n",
    "import pandas as pd\n",
    "from scipy import signal\n",
    "from scipy.io.wavfile import read, write\n",
    "import matplotlib.pyplot as plt\n",
    "import sounddevice as sd\n",
    "import simpleaudio as sa\n",
    "from IPython.display import Image\n",
    "import soundfile as sf\n",
    "import scipy\n",
    "\n",
    "\n",
    "\n",
    "#Para funcion carga de archivos.\n",
    "from ipywidgets import Button\n",
    "from tkinter import Tk, filedialog\n",
    "from IPython.display import clear_output, display"
   ]
  },
  {
   "cell_type": "markdown",
   "metadata": {},
   "source": [
    "## Funciones Graficadoras"
   ]
  },
  {
   "cell_type": "code",
   "execution_count": 6,
   "metadata": {},
   "outputs": [],
   "source": [
    "def graficador(ys,nombre,ti,ejex,ejey):\n",
    "    \"\"\"\n",
    "    Permite plotear funciones\n",
    "    Parámetros de entrada:\n",
    "     ys es la función, nombre es el nombre del grafico, ti es la coordenada independiente,\n",
    "     ejex nombre del eje X y ejey nombre del eje Y.\n",
    "    Return: Gráfica de la función de entrada con posibilidad de nombrar los ejes y darle un título\n",
    "    \"\"\"\n",
    "    fs = 44100\n",
    "    x = (np.linspace (0, ti, fs*ti,False))\n",
    "    # plot\n",
    "    plt.plot(x,ys, 'r')\n",
    "    plt.title(nombre)\n",
    "    plt.xlabel(ejex) \n",
    "    plt.ylabel(ejey)\n",
    "    plt.show()"
   ]
  },
  {
   "cell_type": "markdown",
   "metadata": {},
   "source": [
    "## Parametros"
   ]
  },
  {
   "cell_type": "code",
   "execution_count": 52,
   "metadata": {},
   "outputs": [
    {
     "name": "stdin",
     "output_type": "stream",
     "text": [
      "Ingrese el tiempo de reproducción: 5\n",
      "Ingrese la frecuencia de muestreo: 44100\n",
      "Ingrese frecuencia inferior: 20\n",
      "Ingrese frecuencia superior: 20000\n"
     ]
    }
   ],
   "source": [
    "T = int(input(\"Ingrese el tiempo de reproducción:\"))\n",
    "fs = int(input(\"Ingrese la frecuencia de muestreo:\"))\n",
    "f1 = float(input(\"Ingrese frecuencia inferior:\" ))\n",
    "f2 = float(input(\"Ingrese frecuencia superior:\" ))\n",
    "t = np.linspace(0., T, fs*T, False)"
   ]
  },
  {
   "cell_type": "code",
   "execution_count": null,
   "metadata": {},
   "outputs": [],
   "source": []
  },
  {
   "cell_type": "markdown",
   "metadata": {},
   "source": [
    "## Ruido Rosa"
   ]
  },
  {
   "cell_type": "code",
   "execution_count": 7,
   "metadata": {},
   "outputs": [],
   "source": [
    "def ruidoRosa_voss(ti, fs=44100, ncols=16):\n",
    "    \"\"\"\n",
    "    Genera ruido rosa utilizando el algoritmo de Voss-McCartney(https://www.dsprelated.com/showabstract/3933.php).\n",
    "    \n",
    "    .. Nota:: si 'ruidoRosa.wav' existe, este será sobreescrito\n",
    "    \n",
    "    Parametros\n",
    "    ----------\n",
    "    ti : float\n",
    "        Valor temporal en segundos, este determina la duración del ruido generado.\n",
    "    rcols: int\n",
    "        Determina el número de fuentes a aleatorias a agregar.\n",
    "    fs: int\n",
    "        Frecuencia de muestreo en Hz de la señal. Por defecto el valor es 44100 Hz. \n",
    "    \n",
    "    returns: NumPy array\n",
    "             Genera un `.wav` desde un numpy array de ti segundos con ruido rosa a una \n",
    "    frecuencia de muestreo de 44100 Hz\n",
    "    \"\"\"\n",
    "    nrows = ti*fs\n",
    "    array = np.full((nrows, ncols), np.nan)\n",
    "    array[0, :] = np.random.random(ncols)\n",
    "    array[:, 0] = np.random.random(nrows)\n",
    "    \n",
    "    # el numero total de cambios es nrows\n",
    "    n = nrows\n",
    "    cols = np.random.geometric(0.5, n)\n",
    "    cols[cols >= ncols] = 0\n",
    "    rows = np.random.randint(nrows, size=n)\n",
    "    array[rows, cols] = np.random.random(n)\n",
    "    \n",
    "    df = pd.DataFrame(array)\n",
    "    filled = df.fillna(method='ffill', axis=0)\n",
    "    total = filled.sum(axis=1)\n",
    "    \n",
    "    ## Centrado de el array en 0\n",
    "    total = total - total.mean()\n",
    "    \n",
    "    ## Normalizado\n",
    "    valor_max = max(abs(max(total)),abs(min(total)))\n",
    "    total = total / valor_max\n",
    "    \n",
    "    filename = '../ruidoRosa.wav' #Nombre del archivo\n",
    "    sd.wait()  #Esperar a que finalice la grabación\n",
    "    write(filename, fs, total) #grabación\n",
    "\n",
    "    return total"
   ]
  },
  {
   "cell_type": "code",
   "execution_count": 8,
   "metadata": {},
   "outputs": [],
   "source": [
    "r_rosa = ruidoRosa_voss(T, fs, ncols=16)"
   ]
  },
  {
   "cell_type": "code",
   "execution_count": 9,
   "metadata": {},
   "outputs": [
    {
     "data": {
      "image/png": "[encoded data removed]",
      "text/plain": [
       "<Figure size 432x288 with 1 Axes>"
      ]
     },
     "metadata": {
      "needs_background": "light"
     },
     "output_type": "display_data"
    }
   ],
   "source": [
    "graficador(r_rosa,'Ruido Rosa',T,'Tiempo[S]','Amplitud')"
   ]
  },
  {
   "cell_type": "markdown",
   "metadata": {},
   "source": [
    "## Sinesweep"
   ]
  },
  {
   "cell_type": "code",
   "execution_count": 3,
   "metadata": {},
   "outputs": [],
   "source": [
    "def sinesweep (f1, f2, T,t) : #Función sinesweep\n",
    "    \"\"\"\n",
    "    La función sinesweep genera un barrido en frecuencias que decae 3dB/octava.\n",
    "       Parametros de entrada: f1:Frecuencia incial del barrido.Formato Float.\n",
    "                              f2:Frecuencia final del barrido.Formato Float.\n",
    "                              T: Tiempo de duración.Formato Int.\n",
    "                              t:variable temporal.Formato Array.\n",
    "       Parametro de salida: f: representa la función del barrido.\n",
    "       También exporta audio formato .wav de duración T segundos y frecuencia de muestreo fs, si el mismo ya existe, será sobreescrito. \n",
    "       Dicha función utiliza recursos de la librería numpy, importando la misma como import numpy as np.\n",
    "    \"\"\"\n",
    "    w1 = 2*np.pi*f1\n",
    "    w2 = 2*np.pi*f2\n",
    "    R = np.log(w2 / w1)\n",
    "    L = T / R\n",
    "    K = (T*w1)/R\n",
    "    f = np.sin(K*(np.exp(t/L) - 1))\n",
    "    filename = '../sinesweep.wav' #Nombre del archivo\n",
    "    sd.wait()  #Esperar a que finalice la grabación\n",
    "    write(filename, fs, f) #grabación\n",
    "    return f"
   ]
  },
  {
   "cell_type": "code",
   "execution_count": 4,
   "metadata": {},
   "outputs": [],
   "source": [
    "sinesweep_audio = sinesweep(f1,f2,T,t)"
   ]
  },
  {
   "cell_type": "code",
   "execution_count": 8,
   "metadata": {},
   "outputs": [
    {
     "data": {
      "image/png": "[encoded data removed]",
      "text/plain": [
       "<Figure size 432x288 with 1 Axes>"
      ]
     },
     "metadata": {
      "needs_background": "light"
     },
     "output_type": "display_data"
    }
   ],
   "source": [
    "graficador(sinesweep_audio,'SineSweep',T,'Tiempo[S]','Amplitud')"
   ]
  },
  {
   "cell_type": "markdown",
   "metadata": {},
   "source": [
    "## Filtro Inverso"
   ]
  },
  {
   "cell_type": "code",
   "execution_count": 9,
   "metadata": {},
   "outputs": [],
   "source": [
    "def filtroinverso (f1,f2,T,t): #Función filtro\n",
    "    \"\"\"\n",
    "    La función filtroinverso genera un filtro que aumenta 3dB/octava. \n",
    "       Parametros de entrada: f1:Frecuencia incial del barrido.Formato Float\n",
    "                              f2:Frecuencia final del barrido.Formato Float\n",
    "                              T: Tiempo de duración.Formato Int\n",
    "                              t:variable temporal.Formato Array\n",
    "       Parametro de salida: FI: representa la función de filtro inverso.\n",
    "       También exporta audio formato .wav de duración T segundos y frecuencia de muestreo fs, si el mismo ya existe, será sobreescrito. \n",
    "       Dicha función utiliza recursos de la librería numpy, importando la misma como import numpy as np.\n",
    "    \"\"\"\n",
    "    w1 = 2*np.pi*f1\n",
    "    w2 = 2*np.pi*f2\n",
    "    R = np.log(w2 / w1)\n",
    "    L = T / R\n",
    "    K = (T*w1)/R\n",
    "    W = (K/L)*np.exp(t/L)\n",
    "    M = w1/(2*np.pi*W)\n",
    "    FI = M*sinesweep(f1,f2,T,t[::-1])\n",
    "    filename = '../filtroinverso.wav' #Nombre del archivo\n",
    "    sd.wait()  #Esperar a que finalice la grabación\n",
    "    write(filename, fs, FI) #grabación\n",
    "    return FI"
   ]
  },
  {
   "cell_type": "code",
   "execution_count": 10,
   "metadata": {},
   "outputs": [],
   "source": [
    "filtro_inv = filtroinverso(f1,f2,T,t)"
   ]
  },
  {
   "cell_type": "code",
   "execution_count": 11,
   "metadata": {},
   "outputs": [
    {
     "data": {
      "image/png": "[encoded data removed]",
      "text/plain": [
       "<Figure size 432x288 with 1 Axes>"
      ]
     },
     "metadata": {
      "needs_background": "light"
     },
     "output_type": "display_data"
    }
   ],
   "source": [
    "graficador(filtro_inv,'Filtro Inverso',T,'Tiempo[S]','Amplitud')"
   ]
  },
  {
   "cell_type": "markdown",
   "metadata": {},
   "source": [
    "## Función de carga de archivos"
   ]
  },
  {
   "cell_type": "code",
   "execution_count": 12,
   "metadata": {},
   "outputs": [],
   "source": [
    "def cargar_audio(paths):\n",
    "    \"\"\"\n",
    "    In: Array con path de los archivos de audio.\n",
    "\n",
    "    Out: Array con informacion de los archivos de audio, en sendos diccionarios.\n",
    "    Los diccionarios tienen las keys las keys:\n",
    "      \n",
    "\n",
    "    Data: Contiene la codificacion de pulso modulado\n",
    "    Bitdepth: Dtype del array data de audio.\n",
    "    Subtype: Contiene la informacion de formato extraida con la libreria soundfile\n",
    "    Duracion: La duracion en segundos del archivo de audio\n",
    "      Samplerate: Frecuencia de sampleo obtenida con la libreria soundfile\n",
    "      Nombre: El del objeto del cual se tomo la informacion. Se probo en wav.\n",
    "      t: Linspace de largo igual a Duracion, con pasos de 1/(frecuencia de sampleo)\n",
    "\n",
    "      Los diccionarios se crean en el orden que tenian los archivos en el array in. Se puede llamar el directorio de cada archivo como cargar_audio(pathfiles)[indice del archivo dentro del array]\n",
    "    \"\"\"\n",
    "    audiodiccs=[]\n",
    "    for path in paths:\n",
    "        archivo=sf.SoundFile(path)\n",
    "        data , fs = sf.read(path)\n",
    "        subtype= \"MAT5\" if \"DOUBLE\"==archivo.subtype else \"WAVE\"\n",
    "        frames=archivo.frames\n",
    "        bitdepth=data.dtype\n",
    "        audiodicc={\"Nombre\":None,\"Samplerate\":None, \"Duracion\":None,\"Bitdepth\":None,\"Data\":None, \"t\":None, \"Subtype\":None}\n",
    "        audiodicc.update({\"Nombre\":path,\"Samplerate\":fs,\"Bitdepth\":bitdepth,\"Duracion\":frames/fs,\"Subtype\":subtype,\"Data\":data, \"t\":np.linspace(0,frames/fs,frames)})\n",
    "        archivo.close()\n",
    "        audiodiccs.append(audiodicc)\n",
    "      \n",
    "    return audiodiccs\n"
   ]
  },
  {
   "cell_type": "markdown",
   "metadata": {},
   "source": [
    "Botón selector"
   ]
  },
  {
   "cell_type": "code",
   "execution_count": 13,
   "metadata": {},
   "outputs": [
    {
     "data": {
      "application/vnd.jupyter.widget-view+json": {
       "model_id": "6425e1881eb14fdba23c1ab1a43f0ac0",
       "version_major": 2,
       "version_minor": 0
      },
      "text/plain": [
       "Button(description='Seleccione el archivo', style=ButtonStyle())"
      ]
     },
     "metadata": {},
     "output_type": "display_data"
    },
    {
     "data": {
      "text/plain": [
       "[]"
      ]
     },
     "execution_count": 13,
     "metadata": {},
     "output_type": "execute_result"
    }
   ],
   "source": [
    "files = []\n",
    "def select_files(b,files=files):\n",
    "    clear_output()\n",
    "    root = Tk()\n",
    "    root.withdraw() # Hide the main window.\n",
    "    root.call('wm', 'attributes', '.', '-topmost', True) # Raise the root to the top of all windows.\n",
    "    files.append(filedialog.askopenfilename()) # List of selected files will be set button's file attribute.\n",
    "    print(files) # Print the list of files selected.\n",
    "\n",
    "fileselect = Button(description=\"Seleccione el archivo\")\n",
    "fileselect.on_click(select_files)\n",
    "\n",
    "display(fileselect)\n",
    "files"
   ]
  },
  {
   "cell_type": "markdown",
   "metadata": {},
   "source": [
    "## Función grabado y reproducción"
   ]
  },
  {
   "cell_type": "code",
   "execution_count": 14,
   "metadata": {},
   "outputs": [],
   "source": [
    "def recplay (file , duracion,canales): \n",
    "    \"\"\" \n",
    "    Función para grabar y reproducir Audios\n",
    "    Graba en formato.wav\n",
    "    Parametros de entrada:\n",
    "    file es el archivo de audio a reproducir\n",
    "    out es el nombre de la grabacion\n",
    "    duracion es el tiempo de grabacion.\n",
    "    Return Audio grabado en .wav con \"duracion\" segundos y frecuencia de muestreo fs.\n",
    "    \"\"\"                                 \n",
    "    fs, data = read(file)\n",
    "    sd.play(data,fsr)\n",
    "    sd.wait() \n",
    "    grabacion = sd.rec(int(duracion * fs),fs,canales)\n",
    "    status=sd.wait()\n",
    "    return grabacion"
   ]
  },
  {
   "cell_type": "code",
   "execution_count": 15,
   "metadata": {},
   "outputs": [],
   "source": [
    "def plays (file):\n",
    "    \"\"\"\n",
    "    Función para reproducción de archivos\n",
    "    Parametros de entrada:\n",
    "    File es el archivo a reproducir\n",
    "    A la salida obtengo la reproducción, hasta el final, del archivo.\n",
    "    Utiliza librerias de sounddevice\n",
    "    \"\"\"\n",
    "    audio2 = file * (2**15 - 1) / np.max(np.abs(file)) #Defino y reproduzco la función\n",
    "    audio2 = audio2.astype(np.int16)\n",
    "    play_obj = sa.play_buffer(audio2, 1, 2, 44100)\n",
    "    play_obj.wait_done()\n"
   ]
  },
  {
   "cell_type": "code",
   "execution_count": 17,
   "metadata": {},
   "outputs": [],
   "source": [
    "plays(filtro_inv)"
   ]
  },
  {
   "cell_type": "markdown",
   "metadata": {},
   "source": [
    "## Sintesis Respuesta al Impulso"
   ]
  },
  {
   "cell_type": "code",
   "execution_count": 85,
   "metadata": {},
   "outputs": [],
   "source": [
    "def sintetizacion_ri(rt,amps,freqs,fs): \n",
    "    \"\"\"\n",
    "    Sintetiza una respuesta al impulso\n",
    "    Parámetros de entrada:\n",
    "        rt: array de tiempo de reverberacion por banda de frecuencias\n",
    "        amps: moduladores de amplitud por \n",
    "        freqs: array con frecuencias utilizadas en Hz\n",
    "    Salida:\n",
    "        Array sintesis de respuesta al impulso y audio \n",
    "    Utiliza bibioteca de numpy\n",
    "    \"\"\"\n",
    "    duracion=3*int(np.ceil(max(rt)))\n",
    "    risub=np.zeros(duracion*fs,) #respuesta al impulso\n",
    "    for i in np.arange(len(rt)):\n",
    "\n",
    "        ri=lambda t: amps[i]*np.exp(t*rt[i]/np.log(10**-3))*np.cos(2*np.pi*freqs[i]*t)\n",
    "        ritot=risub+ri(np.linspace(0,duracion,duracion*fs))\n",
    "    filename = '../sinte_ri.wav' #Nombre del archivo\n",
    "    sd.wait()  #Esperar a que finalice la grabación\n",
    "    write(filename, fs, ritot) #grabación   \n",
    "    return ritot"
   ]
  },
  {
   "cell_type": "code",
   "execution_count": 88,
   "metadata": {},
   "outputs": [
    {
     "data": {
      "image/png": "[encoded data removed]",
      "text/plain": [
       "<Figure size 432x288 with 1 Axes>"
      ]
     },
     "metadata": {
      "needs_background": "light"
     },
     "output_type": "display_data"
    }
   ],
   "source": [
    "freqs = [31.25,62.5,125,250,500,1000,2000,4000,8000,16000]\n",
    "rt= [5.68,4.41,3.86,2.86,2.59,2.61,2.47,2.02,1.32,0.92] #Obtenido de 1st_baptist_nashville_balcony\"\n",
    "amps = np.ones(10)\n",
    "sinte=sintetizacion_ri(rt,amps,freqs,fs)\n",
    "T=int(3*np.ceil(max(rt)))\n",
    "graficador(sinte,\"Sintesis de respuesta al impulso\",T,\"Tiempo(s)\",\"Amplitud\")"
   ]
  },
  {
   "cell_type": "markdown",
   "metadata": {},
   "source": [
    "## Función de obtención de la respuesta al impulso"
   ]
  },
  {
   "cell_type": "code",
   "execution_count": 53,
   "metadata": {},
   "outputs": [],
   "source": [
    "def resp_imp (x, y):\n",
    "    '''Función de obtención de la respuesta al impulso de un recinto\n",
    "       Parametros de entrada:\n",
    "       X:Impulso o excitación\n",
    "       Y:Captación del impulso con la respuesta del recinto\n",
    "       Mediante la transformada rapida de fourier de la biblioteca Scipy, \n",
    "       Return: Respuesta al impulso de la sala'''\n",
    "\n",
    "    Y = scipy.fft(y)\n",
    "    X = scipy.fft(x)\n",
    "    H = Y/X\n",
    "    h = scipy.ifft(H)\n",
    "    return h\n"
   ]
  },
  {
   "cell_type": "code",
   "execution_count": 54,
   "metadata": {},
   "outputs": [
    {
     "name": "stderr",
     "output_type": "stream",
     "text": [
      "<ipython-input-53-af28ed75b054>:9: DeprecationWarning: Using scipy.fft as a function is deprecated and will be removed in SciPy 1.5.0, use scipy.fft.fft instead.\n",
      "  Y = scipy.fft(y)\n",
      "<ipython-input-53-af28ed75b054>:10: DeprecationWarning: Using scipy.fft as a function is deprecated and will be removed in SciPy 1.5.0, use scipy.fft.fft instead.\n",
      "  X = scipy.fft(x)\n",
      "<ipython-input-53-af28ed75b054>:12: DeprecationWarning: scipy.ifft is deprecated and will be removed in SciPy 2.0.0, use scipy.fft.ifft instead\n",
      "  h = scipy.ifft(H)\n"
     ]
    }
   ],
   "source": [
    "resp_impulso = resp_imp(filtro_inv,sinesweep_audio)\n"
   ]
  },
  {
   "cell_type": "code",
   "execution_count": 55,
   "metadata": {},
   "outputs": [
    {
     "name": "stderr",
     "output_type": "stream",
     "text": [
      "C:\\Users\\LeaDm\\anaconda3\\lib\\site-packages\\numpy\\core\\_asarray.py:83: ComplexWarning: Casting complex values to real discards the imaginary part\n",
      "  return array(a, dtype, copy=False, order=order)\n"
     ]
    },
    {
     "data": {
      "image/png": "[encoded data removed]",
      "text/plain": [
       "<Figure size 432x288 with 1 Axes>"
      ]
     },
     "metadata": {
      "needs_background": "light"
     },
     "output_type": "display_data"
    }
   ],
   "source": [
    "graficador(resp_impulso,'Respuesta al impulso',T,'Tiempo[S]','Amplitud')"
   ]
  },
  {
   "cell_type": "markdown",
   "metadata": {},
   "source": [
    "## Función filtros norma IEC61260"
   ]
  },
  {
   "cell_type": "code",
   "execution_count": 46,
   "metadata": {},
   "outputs": [],
   "source": [
    "def Filtro (fs,bandwidth,archivo):\n",
    "    '''Filtro por octava o tercio de octava segun Norma 612600\n",
    "       Parametros de entrada: \n",
    "        fs: Frecuencia de muestreo\n",
    "        bandwith: Selector de octava o tercio de octava '''\n",
    "    if bandwidth == 'octava': #ancho de banda de a octava \n",
    "        freqs = [31.25, 62.5, 125, 250, 500, 1000, 2000, 4000, 8000]\n",
    "        G = 1.0/2.0\n",
    "    elif bandwidth == 'tercio': #ancho de banda de a tercio de octava \n",
    "        freqs = [19.69,24.80,31.25,39.37,49.61,62.50,78.75,99.21,125,157.5,198.4,250,\n",
    "                 315,396.9,500,630,793.7,1000,1260,1587,2000,2520,3175,4000,5040,6350,8000]\n",
    "        G = 1.0/6.0\n",
    "    factor = np.power(2,G)\n",
    "    for i in range(0,len(freqs)):\n",
    "        frec_central = freqs[i] #Define las diferentes frecuencias centrales para el array freqs\n",
    "        fcorte_inf = frec_central/factor #Define las diferentes frecuencias de corte inferior para el array freqs\n",
    "        fcorte_sup = frec_central*factor #Define las diferentes frecuencias de corte superior para el array freqs\n",
    "        sos = signal.iirfilter(8, [fcorte_inf,fcorte_sup],\n",
    "                            rs=60, btype='band', analog=False,\n",
    "                            ftype='butter', fs=fs, output='sos')\n",
    "        filt = signal.sosfilt(sos, archivo)\n",
    "        filename[i] = '../filtrado[i].wav' #Nombre del archivo\n",
    "        #sd.wait()  #Esperar a que finalice la grabación\n",
    "        write(filename, fs, filt) #grabación \n",
    "        plt.plot(t,filt)\n",
    "    #filename = '../filtrado.wav' #Nombre del archivo\n",
    "    #sd.wait()  #Esperar a que finalice la grabación\n",
    "    #write(filename, fs, filt) #grabación "
   ]
  },
  {
   "cell_type": "code",
   "execution_count": 45,
   "metadata": {},
   "outputs": [
    {
     "ename": "NameError",
     "evalue": "name 'filename' is not defined",
     "output_type": "error",
     "traceback": [
      "\u001b[1;31m---------------------------------------------------------------------------\u001b[0m",
      "\u001b[1;31mNameError\u001b[0m                                 Traceback (most recent call last)",
      "\u001b[1;32m<ipython-input-45-d94183e59589>\u001b[0m in \u001b[0;36m<module>\u001b[1;34m\u001b[0m\n\u001b[1;32m----> 1\u001b[1;33m \u001b[0mfiltro\u001b[0m \u001b[1;33m=\u001b[0m \u001b[0mFiltro\u001b[0m\u001b[1;33m(\u001b[0m\u001b[0mfs\u001b[0m\u001b[1;33m,\u001b[0m\u001b[1;34m'octava'\u001b[0m\u001b[1;33m,\u001b[0m\u001b[0mresp_impulso\u001b[0m\u001b[1;33m)\u001b[0m\u001b[1;33m\u001b[0m\u001b[1;33m\u001b[0m\u001b[0m\n\u001b[0m",
      "\u001b[1;32m<ipython-input-44-c390d4d00b68>\u001b[0m in \u001b[0;36mFiltro\u001b[1;34m(fs, bandwidth, archivo)\u001b[0m\n\u001b[0;32m     20\u001b[0m                             ftype='butter', fs=fs, output='sos')\n\u001b[0;32m     21\u001b[0m         \u001b[0mfilt\u001b[0m \u001b[1;33m=\u001b[0m \u001b[0msignal\u001b[0m\u001b[1;33m.\u001b[0m\u001b[0msosfilt\u001b[0m\u001b[1;33m(\u001b[0m\u001b[0msos\u001b[0m\u001b[1;33m,\u001b[0m \u001b[0marchivo\u001b[0m\u001b[1;33m)\u001b[0m\u001b[1;33m\u001b[0m\u001b[1;33m\u001b[0m\u001b[0m\n\u001b[1;32m---> 22\u001b[1;33m         \u001b[0mfilename\u001b[0m\u001b[1;33m[\u001b[0m\u001b[0mi\u001b[0m\u001b[1;33m]\u001b[0m \u001b[1;33m=\u001b[0m \u001b[1;34m'../filtrado[i].wav'\u001b[0m \u001b[1;31m#Nombre del archivo\u001b[0m\u001b[1;33m\u001b[0m\u001b[1;33m\u001b[0m\u001b[0m\n\u001b[0m\u001b[0;32m     23\u001b[0m         \u001b[0msd\u001b[0m\u001b[1;33m.\u001b[0m\u001b[0mwait\u001b[0m\u001b[1;33m(\u001b[0m\u001b[1;33m)\u001b[0m  \u001b[1;31m#Esperar a que finalice la grabación\u001b[0m\u001b[1;33m\u001b[0m\u001b[1;33m\u001b[0m\u001b[0m\n\u001b[0;32m     24\u001b[0m         \u001b[0mwrite\u001b[0m\u001b[1;33m(\u001b[0m\u001b[0mfilename\u001b[0m\u001b[1;33m,\u001b[0m \u001b[0mfs\u001b[0m\u001b[1;33m,\u001b[0m \u001b[0mfilt\u001b[0m\u001b[1;33m)\u001b[0m \u001b[1;31m#grabación\u001b[0m\u001b[1;33m\u001b[0m\u001b[1;33m\u001b[0m\u001b[0m\n",
      "\u001b[1;31mNameError\u001b[0m: name 'filename' is not defined"
     ]
    }
   ],
   "source": [
    "filtro = Filtro(fs,'octava',resp_impulso)"
   ]
  },
  {
   "cell_type": "markdown",
   "metadata": {},
   "source": [
    "## Función conversión a escala logarítmica normalizada"
   ]
  },
  {
   "cell_type": "code",
   "execution_count": 56,
   "metadata": {},
   "outputs": [],
   "source": [
    "def convlognormal(F):\n",
    "    \"\"\"\n",
    "    Conversion a escala logaritmica normalizada\n",
    "    Parámetros de entrada:\n",
    "    F: Función a escalar\n",
    "    Salida: Función normalizada y a escala logaritmica\n",
    "    Utiliza librería Numpy.\n",
    "    \"\"\"\n",
    "    ampmax=np.max(F)\n",
    "    Fln=20*np.log10(F/ampmax)\n",
    "    return Fln"
   ]
  },
  {
   "cell_type": "code",
   "execution_count": 57,
   "metadata": {},
   "outputs": [
    {
     "name": "stderr",
     "output_type": "stream",
     "text": [
      "C:\\Users\\LeaDm\\anaconda3\\lib\\site-packages\\numpy\\core\\_asarray.py:83: ComplexWarning: Casting complex values to real discards the imaginary part\n",
      "  return array(a, dtype, copy=False, order=order)\n"
     ]
    },
    {
     "data": {
      "image/png": "[encoded data removed]",
      "text/plain": [
       "<Figure size 432x288 with 1 Axes>"
      ]
     },
     "metadata": {
      "needs_background": "light"
     },
     "output_type": "display_data"
    }
   ],
   "source": [
    "aa = convlognormal(resp_impulso)\n",
    "graficador(aa,'Respuesta al impulso',T,'Tiempo[S]','Amplitud')"
   ]
  },
  {
   "cell_type": "markdown",
   "metadata": {},
   "source": [
    "## Transformada de Hilbert"
   ]
  },
  {
   "cell_type": "code",
   "execution_count": 83,
   "metadata": {},
   "outputs": [],
   "source": [
    "def transf_hilbert (S):\n",
    "    \"\"\"Realiza la transformada de Hilbert para una función de entrada.\n",
    "    Parámetros de entrada\n",
    "    S: Función a aplicar la transformada.\n",
    "    Salida: Transformada de Hilbert\"\"\"\n",
    "    n = 1/(np.pi*t)\n",
    "    Hilb = np.convolve(S,n,mode = 'same')\n",
    "    return Hilb # ir por scipy "
   ]
  },
  {
   "cell_type": "code",
   "execution_count": 84,
   "metadata": {},
   "outputs": [
    {
     "name": "stderr",
     "output_type": "stream",
     "text": [
      "<ipython-input-83-89189eced265>:6: RuntimeWarning: divide by zero encountered in true_divide\n",
      "  n = 1/(np.pi*t)\n",
      "C:\\Users\\LeaDm\\anaconda3\\lib\\site-packages\\numpy\\core\\_asarray.py:83: ComplexWarning: Casting complex values to real discards the imaginary part\n",
      "  return array(a, dtype, copy=False, order=order)\n"
     ]
    },
    {
     "data": {
      "image/png": "[encoded data removed]",
      "text/plain": [
       "<Figure size 432x288 with 1 Axes>"
      ]
     },
     "metadata": {
      "needs_background": "light"
     },
     "output_type": "display_data"
    }
   ],
   "source": [
    "ss = transf_hilbert(aa)\n",
    "graficador(ss,\"Respuesta al impulso\",T,\"Tiempo(s)\", \"Amplitud (dBFS)\")"
   ]
  },
  {
   "cell_type": "markdown",
   "metadata": {},
   "source": [
    "## Regresión Lineal"
   ]
  },
  {
   "cell_type": "code",
   "execution_count": null,
   "metadata": {},
   "outputs": [],
   "source": [
    "def reglin(data,t)\n",
    "    \"\"\"\n",
    "    Aplica la fórmula de regresión lineal para obtener la recta que mejor se aproxima a la respuesta al impulso suavizada.\n",
    "    Parámetros de entrada:\n",
    "    data : Función de entrada\n",
    "    t: tiempo\n",
    "    Salida: Regresión lineal\n",
    "    \"\"\"\n",
    "\n",
    "    y=transpose(data);        #vector valor de muestra\n",
    "    x=t;                      #vector muestras\n",
    "    n=len(t);                 #cantidad de muestras\n",
    "\n",
    "    c1=sum(x.^2);\n",
    "    c2=sum(y);\n",
    "    c3=sum(x.*y);\n",
    "    c4=sum(x);\n",
    "\n",
    "    ord = (c1*c2-c3*c4)/(n*c1-c4^2);\n",
    "    pend = (n*c3-c4*c2)/(n*c1-c4^2);\n",
    "    recta=[pend,ord];\n",
    "    y = pend*x + ord \n",
    "    return y"
   ]
  },
  {
   "cell_type": "markdown",
   "metadata": {},
   "source": [
    "## Función de Schroeder"
   ]
  },
  {
   "cell_type": "code",
   "execution_count": null,
   "metadata": {},
   "outputs": [],
   "source": []
  }
 ],
 "metadata": {
  "kernelspec": {
   "display_name": "Python 3",
   "language": "python",
   "name": "python3"
  },
  "language_info": {
   "codemirror_mode": {
    "name": "ipython",
    "version": 3
   },
   "file_extension": ".py",
   "mimetype": "text/x-python",
   "name": "python",
   "nbconvert_exporter": "python",
   "pygments_lexer": "ipython3",
   "version": "3.8.5"
  }
 },
 "nbformat": 4,
 "nbformat_minor": 4
}
